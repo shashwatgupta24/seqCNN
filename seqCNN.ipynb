{
  "cells": [
    {
      "cell_type": "code",
      "execution_count": 2,
      "metadata": {
        "colab": {
          "base_uri": "https://localhost:8080/"
        },
        "id": "CHw608SokPUe",
        "outputId": "4dad9cd6-e045-4cbe-cecb-9e0adb6f22d0"
      },
      "outputs": [
        {
          "output_type": "stream",
          "name": "stdout",
          "text": [
            "Mounted at /content/drive\n"
          ]
        }
      ],
      "source": [
        "from google.colab import drive\n",
        "drive.mount('/content/drive')"
      ]
    },
    {
      "cell_type": "code",
      "execution_count": 3,
      "metadata": {
        "id": "Do-wXMvDp80v"
      },
      "outputs": [],
      "source": [
        "import os #for operation on single file\n",
        "import random #for generating random numbers\n",
        "import shutil # for operation on collection of files\n",
        "import numpy as np\n",
        "from shutil import copyfile\n",
        "from PIL import Image #to import the images\n",
        "%matplotlib inline\n",
        "import matplotlib.image as mpimg\n",
        "import matplotlib.pyplot as plt\n",
        "from sklearn.model_selection import train_test_split\n",
        "from sklearn.metrics import confusion_matrix\n",
        "import math\n",
        "from keras.utils.np_utils import to_categorical  #for coverting into one hot encoding\n",
        "from keras.models import Sequential \n",
        "from keras.layers import Dense, Dropout, Flatten, Conv2D, MaxPool2D\n",
        "from tensorflow.keras.optimizers import Adam\n",
        "import tensorflow as tf\n",
        "#from google.colab import files\n",
        "from keras.preprocessing import image\n",
        "from tensorflow.keras.preprocessing.image import ImageDataGenerator #for augemtation of images like left rotate, right rotate"
      ]
    },
    {
      "cell_type": "code",
      "execution_count": 4,
      "metadata": {
        "id": "tRbglkybp9g0"
      },
      "outputs": [],
      "source": [
        "train_dir = '/content/drive/MyDrive/ocular/train'\n",
        "test_dir = '/content/drive/MyDrive/ocular/test'"
      ]
    },
    {
      "cell_type": "code",
      "execution_count": 5,
      "metadata": {
        "id": "N7USEJrJp_cr"
      },
      "outputs": [],
      "source": [
        "batch_size =128\n",
        "img_height, img_width = 224,224"
      ]
    },
    {
      "cell_type": "code",
      "execution_count": 6,
      "metadata": {
        "id": "pVu7GOZ5qCyL"
      },
      "outputs": [],
      "source": [
        "input_shape = (img_height, img_width, 3) #3 is for rgb images. if image woubld be black and white it would be 1"
      ]
    },
    {
      "cell_type": "code",
      "execution_count": 7,
      "metadata": {
        "id": "BCs4cPE5qIfR"
      },
      "outputs": [],
      "source": [
        "random_seed = np.random.seed(1142)  #to generate random number\n",
        "\n",
        "train_datagen = ImageDataGenerator(\n",
        "    rescale =1. /225,\n",
        "    validation_split = 0.20,  #validation dataset 20% of data\n",
        "    zoom_range = 0.2,\n",
        "    shear_range = 0.2,\n",
        ")"
      ]
    },
    {
      "cell_type": "code",
      "execution_count": 8,
      "metadata": {
        "colab": {
          "base_uri": "https://localhost:8080/"
        },
        "id": "7vdycpFbqKcQ",
        "outputId": "c02af7f3-83aa-4d5f-d71a-d807c4c0ac3f"
      },
      "outputs": [
        {
          "output_type": "stream",
          "name": "stdout",
          "text": [
            "Found 877 images belonging to 3 classes.\n"
          ]
        }
      ],
      "source": [
        "train_generator = train_datagen.flow_from_directory(\n",
        "    train_dir,\n",
        "    target_size= (img_height, img_width),\n",
        "    batch_size = batch_size,\n",
        "    seed = random_seed,\n",
        "    shuffle= False,\n",
        "    subset ='training',\n",
        "    class_mode = 'categorical'\n",
        ")"
      ]
    },
    {
      "cell_type": "code",
      "execution_count": 9,
      "metadata": {
        "colab": {
          "base_uri": "https://localhost:8080/"
        },
        "id": "3Fal41A_qKih",
        "outputId": "9924b68d-3d1d-4eb5-ff22-18edfe676604"
      },
      "outputs": [
        {
          "output_type": "stream",
          "name": "stdout",
          "text": [
            "Found 218 images belonging to 3 classes.\n"
          ]
        }
      ],
      "source": [
        "validation_generator = train_datagen.flow_from_directory(\n",
        "    train_dir,\n",
        "    target_size= (img_height, img_width),\n",
        "    batch_size = batch_size,\n",
        "    seed = random_seed,\n",
        "    shuffle= False,\n",
        "    subset ='validation',\n",
        "    class_mode = 'categorical'\n",
        ")"
      ]
    },
    {
      "cell_type": "code",
      "execution_count": 10,
      "metadata": {
        "colab": {
          "base_uri": "https://localhost:8080/"
        },
        "id": "cslL0WivqQS4",
        "outputId": "6fb93e51-8e7c-47b9-ad52-0c9c1267fafd"
      },
      "outputs": [
        {
          "output_type": "stream",
          "name": "stdout",
          "text": [
            "Found 274 images belonging to 3 classes.\n"
          ]
        }
      ],
      "source": [
        "test_datagen = ImageDataGenerator(rescale=1. /255 )\n",
        "test_generator = train_datagen.flow_from_directory(\n",
        "    test_dir,\n",
        "    target_size= (img_height, img_width),\n",
        "    batch_size = batch_size,\n",
        "    seed = random_seed,\n",
        "    shuffle= False,\n",
        "    class_mode = 'categorical'\n",
        ")"
      ]
    },
    {
      "cell_type": "code",
      "execution_count": 11,
      "metadata": {
        "id": "tWpgWFncqTfg"
      },
      "outputs": [],
      "source": [
        "nb_train_samples =len(train_generator.filenames) #number of train samples\n",
        "nb_validation_samples =len(validation_generator.filenames)\n",
        "nb_test_samples =len(test_generator.filenames)"
      ]
    },
    {
      "cell_type": "code",
      "execution_count": 12,
      "metadata": {
        "id": "VZ3ZcYJsqVrJ"
      },
      "outputs": [],
      "source": [
        "num_classes = len(train_generator.class_indices)"
      ]
    },
    {
      "cell_type": "code",
      "execution_count": 13,
      "metadata": {
        "colab": {
          "base_uri": "https://localhost:8080/"
        },
        "id": "yLWsyvP9qXYO",
        "outputId": "f02407b0-b200-4d73-adb5-d33d1f603624"
      },
      "outputs": [
        {
          "output_type": "stream",
          "name": "stdout",
          "text": [
            "nb_train_samples: 877\n",
            "nb_validation_samples: 218\n",
            "nb_test_samples: 274\n"
          ]
        }
      ],
      "source": [
        "print(\"nb_train_samples:\",nb_train_samples)\n",
        "print(\"nb_validation_samples:\",nb_validation_samples)\n",
        "print(\"nb_test_samples:\",nb_test_samples)\n",
        "\n"
      ]
    },
    {
      "cell_type": "code",
      "execution_count": 14,
      "metadata": {
        "colab": {
          "base_uri": "https://localhost:8080/",
          "height": 389
        },
        "id": "KPIdXxHAqZEO",
        "outputId": "46dddf33-b996-4e9f-8dc7-cb45526684ae"
      },
      "outputs": [
        {
          "output_type": "display_data",
          "data": {
            "text/plain": [
              "<Figure size 576x432 with 1 Axes>"
            ],
            "image/png": "[encoded data removed]"
          },
          "metadata": {
            "needs_background": "light"
          }
        }
      ],
      "source": [
        "plt.figure(figsize=(8,6))\n",
        "plt.bar([\"train_generator\", \"validation_generator\", \"test_generator\"], [nb_train_samples, nb_validation_samples, nb_test_samples], color=[\"maroon\", \"cyan\",\"seagreen\"], width=0.4 )\n",
        "plt.xlabel('Data')\n",
        "plt.ylabel('Numbers')\n",
        "plt.show()"
      ]
    },
    {
      "cell_type": "code",
      "execution_count": 15,
      "metadata": {
        "colab": {
          "base_uri": "https://localhost:8080/"
        },
        "id": "IyCZG-Roqb82",
        "outputId": "a277ad3f-2e8d-4d78-baa8-b37efd9ca75e"
      },
      "outputs": [
        {
          "output_type": "stream",
          "name": "stdout",
          "text": [
            "Model: \"sequential\"\n",
            "_________________________________________________________________\n",
            " Layer (type)                Output Shape              Param #   \n",
            "=================================================================\n",
            " conv2d (Conv2D)             (None, 224, 224, 32)      896       \n",
            "                                                                 \n",
            " max_pooling2d (MaxPooling2D  (None, 112, 112, 32)     0         \n",
            " )                                                               \n",
            "                                                                 \n",
            " dropout (Dropout)           (None, 112, 112, 32)      0         \n",
            "                                                                 \n",
            " conv2d_1 (Conv2D)           (None, 112, 112, 64)      18496     \n",
            "                                                                 \n",
            " max_pooling2d_1 (MaxPooling  (None, 56, 56, 64)       0         \n",
            " 2D)                                                             \n",
            "                                                                 \n",
            " dropout_1 (Dropout)         (None, 56, 56, 64)        0         \n",
            "                                                                 \n",
            " flatten (Flatten)           (None, 200704)            0         \n",
            "                                                                 \n",
            " dense (Dense)               (None, 200)               40141000  \n",
            "                                                                 \n",
            " dropout_2 (Dropout)         (None, 200)               0         \n",
            "                                                                 \n",
            " dense_1 (Dense)             (None, 3)                 603       \n",
            "                                                                 \n",
            "=================================================================\n",
            "Total params: 40,160,995\n",
            "Trainable params: 40,160,995\n",
            "Non-trainable params: 0\n",
            "_________________________________________________________________\n"
          ]
        }
      ],
      "source": [
        "model=Sequential()\n",
        "model.add(Conv2D(filters=32, kernel_size = (3,3), padding='Same', activation ='relu', input_shape=(img_height, img_width, 3) ))\n",
        "model.add(MaxPool2D(pool_size=(2,2), strides=2))\n",
        "model.add(Dropout(0.1))\n",
        "model.add(Conv2D(filters=64, kernel_size = (3,3), padding='Same', activation ='relu'))\n",
        "model.add(MaxPool2D(pool_size=(2,2), strides=2))\n",
        "model.add(Dropout(0.1))\n",
        "model.add(Flatten())\n",
        "model.add(Dense(200, activation='relu'))\n",
        "model.add(Dropout(0.25))\n",
        "model.add(Dense(3, activation='softmax'))\n",
        "\n",
        "model.compile(optimizer='adam', loss ='categorical_crossentropy', metrics=['accuracy'])\n",
        "\n",
        "model.summary()"
      ]
    },
    {
      "cell_type": "code",
      "execution_count": 16,
      "metadata": {
        "colab": {
          "base_uri": "https://localhost:8080/",
          "height": 1000
        },
        "id": "MfyPHM7Fqdy2",
        "outputId": "1a5beb6b-16f4-4b8b-8d44-cc04a3e1ab64"
      },
      "outputs": [
        {
          "output_type": "execute_result",
          "data": {
            "text/plain": [
              "<IPython.core.display.Image object>"
            ],
            "image/png": "[encoded data removed]"
          },
          "metadata": {},
          "execution_count": 16
        }
      ],
      "source": [
        "from tensorflow.keras.utils import plot_model\n",
        "plot_model (model, show_shapes= True, expand_nested = True, dpi = 80 )"
      ]
    },
    {
      "cell_type": "code",
      "execution_count": 17,
      "metadata": {
        "colab": {
          "base_uri": "https://localhost:8080/"
        },
        "id": "z4wTwG9Eqeen",
        "outputId": "4815203d-d6f9-424c-8b9f-0231e5564ee3"
      },
      "outputs": [
        {
          "output_type": "stream",
          "name": "stderr",
          "text": [
            "/usr/local/lib/python3.7/dist-packages/ipykernel_launcher.py:1: UserWarning: `Model.fit_generator` is deprecated and will be removed in a future version. Please use `Model.fit`, which supports generators.\n",
            "  \"\"\"Entry point for launching an IPython kernel.\n"
          ]
        },
        {
          "output_type": "stream",
          "name": "stdout",
          "text": [
            "Epoch 1/200\n",
            "7/7 [==============================] - 324s 37s/step - loss: 31.8768 - accuracy: 0.2816 - val_loss: 2.0368 - val_accuracy: 0.5688\n",
            "Epoch 2/200\n",
            "7/7 [==============================] - 14s 2s/step - loss: 2.4714 - accuracy: 0.2406 - val_loss: 1.0798 - val_accuracy: 0.2156\n",
            "Epoch 3/200\n",
            "7/7 [==============================] - 15s 2s/step - loss: 1.1306 - accuracy: 0.4572 - val_loss: 1.0951 - val_accuracy: 0.5459\n",
            "Epoch 4/200\n",
            "7/7 [==============================] - 14s 2s/step - loss: 1.0639 - accuracy: 0.6237 - val_loss: 1.0676 - val_accuracy: 0.6193\n",
            "Epoch 5/200\n",
            "7/7 [==============================] - 14s 2s/step - loss: 1.3616 - accuracy: 0.5690 - val_loss: 0.8756 - val_accuracy: 0.5780\n",
            "Epoch 6/200\n",
            "7/7 [==============================] - 14s 2s/step - loss: 1.0569 - accuracy: 0.5872 - val_loss: 1.0655 - val_accuracy: 0.6055\n",
            "Epoch 7/200\n",
            "7/7 [==============================] - 14s 2s/step - loss: 1.0105 - accuracy: 0.6283 - val_loss: 1.0733 - val_accuracy: 0.5826\n",
            "Epoch 8/200\n",
            "7/7 [==============================] - 14s 2s/step - loss: 1.0247 - accuracy: 0.6385 - val_loss: 1.0400 - val_accuracy: 0.5872\n",
            "Epoch 9/200\n",
            "7/7 [==============================] - 14s 2s/step - loss: 0.9441 - accuracy: 0.6454 - val_loss: 0.9369 - val_accuracy: 0.6239\n",
            "Epoch 10/200\n",
            "7/7 [==============================] - 14s 2s/step - loss: 0.9071 - accuracy: 0.6043 - val_loss: 0.8203 - val_accuracy: 0.6147\n",
            "Epoch 11/200\n",
            "7/7 [==============================] - 14s 2s/step - loss: 0.8800 - accuracy: 0.6237 - val_loss: 0.9108 - val_accuracy: 0.6422\n",
            "Epoch 12/200\n",
            "7/7 [==============================] - 14s 2s/step - loss: 0.8228 - accuracy: 0.6499 - val_loss: 0.8867 - val_accuracy: 0.6743\n",
            "Epoch 13/200\n",
            "7/7 [==============================] - 16s 2s/step - loss: 0.7867 - accuracy: 0.6545 - val_loss: 0.8242 - val_accuracy: 0.6606\n",
            "Epoch 14/200\n",
            "7/7 [==============================] - 14s 2s/step - loss: 0.8159 - accuracy: 0.6499 - val_loss: 0.8855 - val_accuracy: 0.6927\n",
            "Epoch 15/200\n",
            "7/7 [==============================] - 14s 2s/step - loss: 0.7928 - accuracy: 0.6534 - val_loss: 0.8299 - val_accuracy: 0.7018\n",
            "Epoch 16/200\n",
            "7/7 [==============================] - 14s 2s/step - loss: 0.7826 - accuracy: 0.6807 - val_loss: 0.8588 - val_accuracy: 0.7110\n",
            "Epoch 17/200\n",
            "7/7 [==============================] - 14s 2s/step - loss: 0.7169 - accuracy: 0.6990 - val_loss: 0.7685 - val_accuracy: 0.7248\n",
            "Epoch 18/200\n",
            "7/7 [==============================] - 14s 2s/step - loss: 0.6976 - accuracy: 0.7092 - val_loss: 0.7533 - val_accuracy: 0.7202\n",
            "Epoch 19/200\n",
            "7/7 [==============================] - 14s 2s/step - loss: 0.7674 - accuracy: 0.6397 - val_loss: 0.7583 - val_accuracy: 0.6606\n",
            "Epoch 20/200\n",
            "7/7 [==============================] - 14s 2s/step - loss: 0.5992 - accuracy: 0.7605 - val_loss: 0.7333 - val_accuracy: 0.7431\n",
            "Epoch 21/200\n",
            "7/7 [==============================] - 14s 2s/step - loss: 0.6552 - accuracy: 0.7092 - val_loss: 0.7130 - val_accuracy: 0.7202\n",
            "Epoch 22/200\n",
            "7/7 [==============================] - 14s 2s/step - loss: 0.6257 - accuracy: 0.7343 - val_loss: 0.8293 - val_accuracy: 0.6606\n",
            "Epoch 23/200\n",
            "7/7 [==============================] - 15s 2s/step - loss: 0.6304 - accuracy: 0.7309 - val_loss: 0.6948 - val_accuracy: 0.7202\n",
            "Epoch 24/200\n",
            "7/7 [==============================] - 14s 2s/step - loss: 0.6612 - accuracy: 0.6773 - val_loss: 0.6713 - val_accuracy: 0.6972\n",
            "Epoch 25/200\n",
            "7/7 [==============================] - 14s 2s/step - loss: 0.6258 - accuracy: 0.7070 - val_loss: 0.7448 - val_accuracy: 0.7018\n",
            "Epoch 26/200\n",
            "7/7 [==============================] - 14s 2s/step - loss: 0.6572 - accuracy: 0.7252 - val_loss: 0.6776 - val_accuracy: 0.7064\n",
            "Epoch 27/200\n",
            "7/7 [==============================] - 14s 2s/step - loss: 0.5382 - accuracy: 0.7434 - val_loss: 0.7217 - val_accuracy: 0.7248\n",
            "Epoch 28/200\n",
            "7/7 [==============================] - 14s 2s/step - loss: 0.5551 - accuracy: 0.7537 - val_loss: 0.6517 - val_accuracy: 0.7569\n",
            "Epoch 29/200\n",
            "7/7 [==============================] - 14s 2s/step - loss: 0.5557 - accuracy: 0.7309 - val_loss: 0.6011 - val_accuracy: 0.7156\n",
            "Epoch 30/200\n",
            "7/7 [==============================] - 14s 2s/step - loss: 0.5214 - accuracy: 0.7332 - val_loss: 0.6147 - val_accuracy: 0.7294\n",
            "Epoch 31/200\n",
            "7/7 [==============================] - 14s 2s/step - loss: 0.4960 - accuracy: 0.7617 - val_loss: 0.6039 - val_accuracy: 0.7431\n",
            "Epoch 32/200\n",
            "7/7 [==============================] - 14s 2s/step - loss: 0.4747 - accuracy: 0.7640 - val_loss: 0.5622 - val_accuracy: 0.7890\n",
            "Epoch 33/200\n",
            "7/7 [==============================] - 15s 2s/step - loss: 0.4551 - accuracy: 0.7822 - val_loss: 0.5579 - val_accuracy: 0.7706\n",
            "Epoch 34/200\n",
            "7/7 [==============================] - 14s 2s/step - loss: 0.4859 - accuracy: 0.7754 - val_loss: 0.5893 - val_accuracy: 0.8028\n",
            "Epoch 35/200\n",
            "7/7 [==============================] - 14s 2s/step - loss: 0.4714 - accuracy: 0.7788 - val_loss: 0.5651 - val_accuracy: 0.7982\n",
            "Epoch 36/200\n",
            "7/7 [==============================] - 14s 2s/step - loss: 0.4779 - accuracy: 0.7799 - val_loss: 0.5734 - val_accuracy: 0.7752\n",
            "Epoch 37/200\n",
            "7/7 [==============================] - 14s 2s/step - loss: 0.4800 - accuracy: 0.8096 - val_loss: 0.5933 - val_accuracy: 0.7569\n",
            "Epoch 38/200\n",
            "7/7 [==============================] - 14s 2s/step - loss: 0.4685 - accuracy: 0.7719 - val_loss: 0.5144 - val_accuracy: 0.8028\n",
            "Epoch 39/200\n",
            "7/7 [==============================] - 14s 2s/step - loss: 0.4622 - accuracy: 0.7811 - val_loss: 0.5520 - val_accuracy: 0.8119\n",
            "Epoch 40/200\n",
            "7/7 [==============================] - 14s 2s/step - loss: 0.4010 - accuracy: 0.8255 - val_loss: 0.4774 - val_accuracy: 0.8211\n",
            "Epoch 41/200\n",
            "7/7 [==============================] - 14s 2s/step - loss: 0.3869 - accuracy: 0.8141 - val_loss: 0.5005 - val_accuracy: 0.7936\n",
            "Epoch 42/200\n",
            "7/7 [==============================] - 14s 2s/step - loss: 0.3624 - accuracy: 0.8609 - val_loss: 0.5156 - val_accuracy: 0.7936\n",
            "Epoch 43/200\n",
            "7/7 [==============================] - 15s 2s/step - loss: 0.3548 - accuracy: 0.8563 - val_loss: 0.4745 - val_accuracy: 0.8211\n",
            "Epoch 44/200\n",
            "7/7 [==============================] - 14s 2s/step - loss: 0.3539 - accuracy: 0.8563 - val_loss: 0.4583 - val_accuracy: 0.8303\n",
            "Epoch 45/200\n",
            "7/7 [==============================] - 14s 2s/step - loss: 0.4303 - accuracy: 0.8039 - val_loss: 0.4718 - val_accuracy: 0.8349\n",
            "Epoch 46/200\n",
            "7/7 [==============================] - 14s 2s/step - loss: 0.2950 - accuracy: 0.8700 - val_loss: 0.4608 - val_accuracy: 0.8165\n",
            "Epoch 47/200\n",
            "7/7 [==============================] - 14s 2s/step - loss: 0.3585 - accuracy: 0.8369 - val_loss: 0.4835 - val_accuracy: 0.8440\n",
            "Epoch 48/200\n",
            "7/7 [==============================] - 14s 2s/step - loss: 0.3481 - accuracy: 0.8655 - val_loss: 0.4818 - val_accuracy: 0.8303\n",
            "Epoch 49/200\n",
            "7/7 [==============================] - 14s 2s/step - loss: 0.3205 - accuracy: 0.8734 - val_loss: 0.4277 - val_accuracy: 0.8440\n",
            "Epoch 50/200\n",
            "7/7 [==============================] - 14s 2s/step - loss: 0.3077 - accuracy: 0.8837 - val_loss: 0.4263 - val_accuracy: 0.8394\n",
            "Epoch 51/200\n",
            "7/7 [==============================] - 14s 2s/step - loss: 0.3331 - accuracy: 0.8381 - val_loss: 0.4151 - val_accuracy: 0.8394\n",
            "Epoch 52/200\n",
            "7/7 [==============================] - 15s 2s/step - loss: 0.3231 - accuracy: 0.8620 - val_loss: 0.4315 - val_accuracy: 0.8257\n",
            "Epoch 53/200\n",
            "7/7 [==============================] - 14s 2s/step - loss: 0.3246 - accuracy: 0.8540 - val_loss: 0.4724 - val_accuracy: 0.8257\n",
            "Epoch 54/200\n",
            "7/7 [==============================] - 13s 2s/step - loss: 0.3393 - accuracy: 0.8426 - val_loss: 0.4722 - val_accuracy: 0.8165\n",
            "Epoch 55/200\n",
            "7/7 [==============================] - 14s 2s/step - loss: 0.2912 - accuracy: 0.8769 - val_loss: 0.4644 - val_accuracy: 0.8486\n",
            "Epoch 56/200\n",
            "7/7 [==============================] - 14s 2s/step - loss: 0.2992 - accuracy: 0.8746 - val_loss: 0.4686 - val_accuracy: 0.8257\n",
            "Epoch 57/200\n",
            "7/7 [==============================] - 14s 2s/step - loss: 0.3406 - accuracy: 0.8495 - val_loss: 0.4531 - val_accuracy: 0.8394\n",
            "Epoch 58/200\n",
            "7/7 [==============================] - 14s 2s/step - loss: 0.3746 - accuracy: 0.8312 - val_loss: 0.4978 - val_accuracy: 0.8303\n",
            "Epoch 59/200\n",
            "7/7 [==============================] - 14s 2s/step - loss: 0.3423 - accuracy: 0.8712 - val_loss: 0.4704 - val_accuracy: 0.8532\n",
            "Epoch 60/200\n",
            "7/7 [==============================] - 14s 2s/step - loss: 0.4409 - accuracy: 0.8096 - val_loss: 0.5037 - val_accuracy: 0.8257\n",
            "Epoch 61/200\n",
            "7/7 [==============================] - 13s 2s/step - loss: 0.3056 - accuracy: 0.8734 - val_loss: 0.5708 - val_accuracy: 0.8073\n",
            "Epoch 62/200\n",
            "7/7 [==============================] - 15s 2s/step - loss: 0.4137 - accuracy: 0.8244 - val_loss: 0.5226 - val_accuracy: 0.8211\n",
            "Epoch 63/200\n",
            "7/7 [==============================] - 14s 2s/step - loss: 0.3168 - accuracy: 0.8814 - val_loss: 0.5037 - val_accuracy: 0.8303\n",
            "Epoch 64/200\n",
            "7/7 [==============================] - 14s 2s/step - loss: 0.3294 - accuracy: 0.8666 - val_loss: 0.4798 - val_accuracy: 0.8257\n",
            "Epoch 65/200\n",
            "7/7 [==============================] - 14s 2s/step - loss: 0.3103 - accuracy: 0.8632 - val_loss: 0.4327 - val_accuracy: 0.8486\n",
            "Epoch 66/200\n",
            "7/7 [==============================] - 14s 2s/step - loss: 0.2842 - accuracy: 0.8951 - val_loss: 0.4673 - val_accuracy: 0.8394\n",
            "Epoch 67/200\n",
            "7/7 [==============================] - 14s 2s/step - loss: 0.2752 - accuracy: 0.8848 - val_loss: 0.4449 - val_accuracy: 0.8486\n",
            "Epoch 68/200\n",
            "7/7 [==============================] - 14s 2s/step - loss: 0.2810 - accuracy: 0.8791 - val_loss: 0.4171 - val_accuracy: 0.8532\n",
            "Epoch 69/200\n",
            "7/7 [==============================] - 13s 2s/step - loss: 0.2895 - accuracy: 0.8780 - val_loss: 0.4457 - val_accuracy: 0.8303\n",
            "Epoch 70/200\n",
            "7/7 [==============================] - 13s 2s/step - loss: 0.2906 - accuracy: 0.8757 - val_loss: 0.4546 - val_accuracy: 0.8532\n",
            "Epoch 71/200\n",
            "7/7 [==============================] - 13s 2s/step - loss: 0.2625 - accuracy: 0.8940 - val_loss: 0.4345 - val_accuracy: 0.8578\n",
            "Epoch 72/200\n",
            "7/7 [==============================] - 14s 2s/step - loss: 0.2656 - accuracy: 0.8894 - val_loss: 0.4054 - val_accuracy: 0.8349\n",
            "Epoch 73/200\n",
            "7/7 [==============================] - 14s 2s/step - loss: 0.2393 - accuracy: 0.9076 - val_loss: 0.3909 - val_accuracy: 0.8440\n",
            "Epoch 74/200\n",
            "7/7 [==============================] - 13s 2s/step - loss: 0.2338 - accuracy: 0.9088 - val_loss: 0.3516 - val_accuracy: 0.8624\n",
            "Epoch 75/200\n",
            "7/7 [==============================] - 13s 2s/step - loss: 0.2502 - accuracy: 0.9019 - val_loss: 0.3888 - val_accuracy: 0.8578\n",
            "Epoch 76/200\n",
            "7/7 [==============================] - 14s 2s/step - loss: 0.2209 - accuracy: 0.9088 - val_loss: 0.4147 - val_accuracy: 0.8716\n",
            "Epoch 77/200\n",
            "7/7 [==============================] - 14s 2s/step - loss: 0.2557 - accuracy: 0.8951 - val_loss: 0.3909 - val_accuracy: 0.8716\n",
            "Epoch 78/200\n",
            "7/7 [==============================] - 13s 2s/step - loss: 0.2179 - accuracy: 0.9247 - val_loss: 0.4800 - val_accuracy: 0.8578\n",
            "Epoch 79/200\n",
            "7/7 [==============================] - 14s 2s/step - loss: 0.2632 - accuracy: 0.8837 - val_loss: 0.4114 - val_accuracy: 0.8716\n",
            "Epoch 80/200\n",
            "7/7 [==============================] - 13s 2s/step - loss: 0.1936 - accuracy: 0.9293 - val_loss: 0.3815 - val_accuracy: 0.8807\n",
            "Epoch 81/200\n",
            "7/7 [==============================] - 14s 2s/step - loss: 0.2564 - accuracy: 0.8905 - val_loss: 0.4085 - val_accuracy: 0.8486\n",
            "Epoch 82/200\n",
            "7/7 [==============================] - 15s 2s/step - loss: 0.2562 - accuracy: 0.8962 - val_loss: 0.4385 - val_accuracy: 0.8532\n",
            "Epoch 83/200\n",
            "7/7 [==============================] - 13s 2s/step - loss: 0.2050 - accuracy: 0.9145 - val_loss: 0.3880 - val_accuracy: 0.8761\n",
            "Epoch 84/200\n",
            "7/7 [==============================] - 13s 2s/step - loss: 0.2146 - accuracy: 0.9133 - val_loss: 0.4317 - val_accuracy: 0.8486\n",
            "Epoch 85/200\n",
            "7/7 [==============================] - 14s 2s/step - loss: 0.2218 - accuracy: 0.9019 - val_loss: 0.4323 - val_accuracy: 0.8761\n",
            "Epoch 86/200\n",
            "7/7 [==============================] - 14s 2s/step - loss: 0.2035 - accuracy: 0.9190 - val_loss: 0.4210 - val_accuracy: 0.8532\n",
            "Epoch 87/200\n",
            "7/7 [==============================] - 14s 2s/step - loss: 0.2156 - accuracy: 0.9099 - val_loss: 0.4186 - val_accuracy: 0.8486\n",
            "Epoch 88/200\n",
            "7/7 [==============================] - 13s 2s/step - loss: 0.1991 - accuracy: 0.9190 - val_loss: 0.3699 - val_accuracy: 0.8716\n",
            "Epoch 89/200\n",
            "7/7 [==============================] - 13s 2s/step - loss: 0.2497 - accuracy: 0.8962 - val_loss: 0.5028 - val_accuracy: 0.8073\n",
            "Epoch 90/200\n",
            "7/7 [==============================] - 13s 2s/step - loss: 0.1805 - accuracy: 0.9373 - val_loss: 0.4283 - val_accuracy: 0.8486\n",
            "Epoch 91/200\n",
            "7/7 [==============================] - 14s 2s/step - loss: 0.2095 - accuracy: 0.9122 - val_loss: 0.4238 - val_accuracy: 0.8670\n",
            "Epoch 92/200\n",
            "7/7 [==============================] - 15s 2s/step - loss: 0.1744 - accuracy: 0.9361 - val_loss: 0.4330 - val_accuracy: 0.8761\n",
            "Epoch 93/200\n",
            "7/7 [==============================] - 14s 2s/step - loss: 0.1811 - accuracy: 0.9179 - val_loss: 0.4317 - val_accuracy: 0.8716\n",
            "Epoch 94/200\n",
            "7/7 [==============================] - 14s 2s/step - loss: 0.1460 - accuracy: 0.9475 - val_loss: 0.4207 - val_accuracy: 0.8807\n",
            "Epoch 95/200\n",
            "7/7 [==============================] - 14s 2s/step - loss: 0.1854 - accuracy: 0.9282 - val_loss: 0.3891 - val_accuracy: 0.8716\n",
            "Epoch 96/200\n",
            "7/7 [==============================] - 14s 2s/step - loss: 0.1775 - accuracy: 0.9259 - val_loss: 0.4419 - val_accuracy: 0.8624\n",
            "Epoch 97/200\n",
            "7/7 [==============================] - 14s 2s/step - loss: 0.1931 - accuracy: 0.9190 - val_loss: 0.4500 - val_accuracy: 0.8761\n",
            "Epoch 98/200\n",
            "7/7 [==============================] - 14s 2s/step - loss: 0.2100 - accuracy: 0.9156 - val_loss: 0.4977 - val_accuracy: 0.8716\n",
            "Epoch 99/200\n",
            "7/7 [==============================] - 14s 2s/step - loss: 0.1919 - accuracy: 0.9361 - val_loss: 0.4470 - val_accuracy: 0.8532\n",
            "Epoch 100/200\n",
            "7/7 [==============================] - 14s 2s/step - loss: 0.1470 - accuracy: 0.9498 - val_loss: 0.4765 - val_accuracy: 0.8578\n",
            "Epoch 101/200\n",
            "7/7 [==============================] - 14s 2s/step - loss: 0.1572 - accuracy: 0.9339 - val_loss: 0.4611 - val_accuracy: 0.8624\n",
            "Epoch 102/200\n",
            "7/7 [==============================] - 15s 2s/step - loss: 0.1790 - accuracy: 0.9259 - val_loss: 0.5168 - val_accuracy: 0.8624\n",
            "Epoch 103/200\n",
            "7/7 [==============================] - 13s 2s/step - loss: 0.1836 - accuracy: 0.9168 - val_loss: 0.4462 - val_accuracy: 0.8716\n",
            "Epoch 104/200\n",
            "7/7 [==============================] - 13s 2s/step - loss: 0.1634 - accuracy: 0.9293 - val_loss: 0.4825 - val_accuracy: 0.8761\n",
            "Epoch 105/200\n",
            "7/7 [==============================] - 14s 2s/step - loss: 0.2060 - accuracy: 0.9168 - val_loss: 0.4839 - val_accuracy: 0.8532\n",
            "Epoch 106/200\n",
            "7/7 [==============================] - 14s 2s/step - loss: 0.1402 - accuracy: 0.9498 - val_loss: 0.4719 - val_accuracy: 0.8624\n",
            "Epoch 107/200\n",
            "7/7 [==============================] - 14s 2s/step - loss: 0.1609 - accuracy: 0.9510 - val_loss: 0.4199 - val_accuracy: 0.8624\n",
            "Epoch 108/200\n",
            "7/7 [==============================] - 14s 2s/step - loss: 0.1501 - accuracy: 0.9361 - val_loss: 0.4171 - val_accuracy: 0.8761\n",
            "Epoch 109/200\n",
            "7/7 [==============================] - 14s 2s/step - loss: 0.1743 - accuracy: 0.9282 - val_loss: 0.4275 - val_accuracy: 0.8578\n",
            "Epoch 110/200\n",
            "7/7 [==============================] - 13s 2s/step - loss: 0.1400 - accuracy: 0.9475 - val_loss: 0.4991 - val_accuracy: 0.8486\n",
            "Epoch 111/200\n",
            "7/7 [==============================] - 14s 2s/step - loss: 0.1470 - accuracy: 0.9475 - val_loss: 0.3923 - val_accuracy: 0.8853\n",
            "Epoch 112/200\n",
            "7/7 [==============================] - 15s 2s/step - loss: 0.1316 - accuracy: 0.9464 - val_loss: 0.4211 - val_accuracy: 0.8945\n",
            "Epoch 113/200\n",
            "7/7 [==============================] - 16s 2s/step - loss: 0.1176 - accuracy: 0.9601 - val_loss: 0.4274 - val_accuracy: 0.8670\n",
            "Epoch 114/200\n",
            "7/7 [==============================] - 13s 2s/step - loss: 0.1191 - accuracy: 0.9555 - val_loss: 0.4656 - val_accuracy: 0.8807\n",
            "Epoch 115/200\n",
            "7/7 [==============================] - 14s 2s/step - loss: 0.1378 - accuracy: 0.9464 - val_loss: 0.4615 - val_accuracy: 0.8761\n",
            "Epoch 116/200\n",
            "7/7 [==============================] - 14s 2s/step - loss: 0.1070 - accuracy: 0.9555 - val_loss: 0.4788 - val_accuracy: 0.8761\n",
            "Epoch 117/200\n",
            "7/7 [==============================] - 13s 2s/step - loss: 0.1424 - accuracy: 0.9407 - val_loss: 0.4115 - val_accuracy: 0.8899\n",
            "Epoch 118/200\n",
            "7/7 [==============================] - 13s 2s/step - loss: 0.0984 - accuracy: 0.9601 - val_loss: 0.5283 - val_accuracy: 0.8257\n",
            "Epoch 119/200\n",
            "7/7 [==============================] - 13s 2s/step - loss: 0.1835 - accuracy: 0.9202 - val_loss: 0.5169 - val_accuracy: 0.8716\n",
            "Epoch 120/200\n",
            "7/7 [==============================] - 14s 2s/step - loss: 0.0977 - accuracy: 0.9704 - val_loss: 0.4905 - val_accuracy: 0.8945\n",
            "Epoch 121/200\n",
            "7/7 [==============================] - 13s 2s/step - loss: 0.1060 - accuracy: 0.9612 - val_loss: 0.4088 - val_accuracy: 0.8716\n",
            "Epoch 122/200\n",
            "7/7 [==============================] - 15s 2s/step - loss: 0.1145 - accuracy: 0.9555 - val_loss: 0.4570 - val_accuracy: 0.8945\n",
            "Epoch 123/200\n",
            "7/7 [==============================] - 13s 2s/step - loss: 0.1111 - accuracy: 0.9544 - val_loss: 0.4539 - val_accuracy: 0.8899\n",
            "Epoch 124/200\n",
            "7/7 [==============================] - 13s 2s/step - loss: 0.1042 - accuracy: 0.9612 - val_loss: 0.4786 - val_accuracy: 0.8670\n",
            "Epoch 125/200\n",
            "7/7 [==============================] - 13s 2s/step - loss: 0.1116 - accuracy: 0.9521 - val_loss: 0.4753 - val_accuracy: 0.8945\n",
            "Epoch 126/200\n",
            "7/7 [==============================] - 13s 2s/step - loss: 0.0930 - accuracy: 0.9647 - val_loss: 0.4696 - val_accuracy: 0.8899\n",
            "Epoch 127/200\n",
            "7/7 [==============================] - 13s 2s/step - loss: 0.1205 - accuracy: 0.9441 - val_loss: 0.5192 - val_accuracy: 0.8853\n",
            "Epoch 128/200\n",
            "7/7 [==============================] - 13s 2s/step - loss: 0.1659 - accuracy: 0.9384 - val_loss: 0.4805 - val_accuracy: 0.8532\n",
            "Epoch 129/200\n",
            "7/7 [==============================] - 13s 2s/step - loss: 0.1441 - accuracy: 0.9430 - val_loss: 0.5371 - val_accuracy: 0.8716\n",
            "Epoch 130/200\n",
            "7/7 [==============================] - 14s 2s/step - loss: 0.1254 - accuracy: 0.9521 - val_loss: 0.5325 - val_accuracy: 0.8899\n",
            "Epoch 131/200\n",
            "7/7 [==============================] - 14s 2s/step - loss: 0.0900 - accuracy: 0.9658 - val_loss: 0.4344 - val_accuracy: 0.8945\n",
            "Epoch 132/200\n",
            "7/7 [==============================] - 13s 2s/step - loss: 0.0955 - accuracy: 0.9681 - val_loss: 0.4844 - val_accuracy: 0.8761\n",
            "Epoch 133/200\n",
            "7/7 [==============================] - 14s 2s/step - loss: 0.1047 - accuracy: 0.9555 - val_loss: 0.5357 - val_accuracy: 0.8853\n",
            "Epoch 134/200\n",
            "7/7 [==============================] - 13s 2s/step - loss: 0.0786 - accuracy: 0.9704 - val_loss: 0.5145 - val_accuracy: 0.8807\n",
            "Epoch 135/200\n",
            "7/7 [==============================] - 13s 2s/step - loss: 0.0862 - accuracy: 0.9726 - val_loss: 0.5990 - val_accuracy: 0.8624\n",
            "Epoch 136/200\n",
            "7/7 [==============================] - 13s 2s/step - loss: 0.0975 - accuracy: 0.9601 - val_loss: 0.5525 - val_accuracy: 0.8945\n",
            "Epoch 137/200\n",
            "7/7 [==============================] - 13s 2s/step - loss: 0.0853 - accuracy: 0.9692 - val_loss: 0.5341 - val_accuracy: 0.8761\n",
            "Epoch 138/200\n",
            "7/7 [==============================] - 13s 2s/step - loss: 0.0932 - accuracy: 0.9647 - val_loss: 0.5993 - val_accuracy: 0.8761\n",
            "Epoch 139/200\n",
            "7/7 [==============================] - 13s 2s/step - loss: 0.0907 - accuracy: 0.9669 - val_loss: 0.5012 - val_accuracy: 0.8991\n",
            "Epoch 140/200\n",
            "7/7 [==============================] - 13s 2s/step - loss: 0.0786 - accuracy: 0.9669 - val_loss: 0.5035 - val_accuracy: 0.8716\n",
            "Epoch 141/200\n",
            "7/7 [==============================] - 13s 2s/step - loss: 0.0831 - accuracy: 0.9715 - val_loss: 0.4878 - val_accuracy: 0.8945\n",
            "Epoch 142/200\n",
            "7/7 [==============================] - 13s 2s/step - loss: 0.0748 - accuracy: 0.9692 - val_loss: 0.5656 - val_accuracy: 0.8761\n",
            "Epoch 143/200\n",
            "7/7 [==============================] - 15s 2s/step - loss: 0.0855 - accuracy: 0.9647 - val_loss: 0.5359 - val_accuracy: 0.8991\n",
            "Epoch 144/200\n",
            "7/7 [==============================] - 13s 2s/step - loss: 0.0626 - accuracy: 0.9749 - val_loss: 0.4619 - val_accuracy: 0.8899\n",
            "Epoch 145/200\n",
            "7/7 [==============================] - 13s 2s/step - loss: 0.0700 - accuracy: 0.9795 - val_loss: 0.5037 - val_accuracy: 0.8716\n",
            "Epoch 146/200\n",
            "7/7 [==============================] - 13s 2s/step - loss: 0.0934 - accuracy: 0.9601 - val_loss: 0.6122 - val_accuracy: 0.8761\n",
            "Epoch 147/200\n",
            "7/7 [==============================] - 13s 2s/step - loss: 0.0708 - accuracy: 0.9772 - val_loss: 0.5815 - val_accuracy: 0.8670\n",
            "Epoch 148/200\n",
            "7/7 [==============================] - 13s 2s/step - loss: 0.1240 - accuracy: 0.9464 - val_loss: 0.5905 - val_accuracy: 0.8853\n",
            "Epoch 149/200\n",
            "7/7 [==============================] - 13s 2s/step - loss: 0.0913 - accuracy: 0.9567 - val_loss: 0.6288 - val_accuracy: 0.8486\n",
            "Epoch 150/200\n",
            "7/7 [==============================] - 13s 2s/step - loss: 0.0962 - accuracy: 0.9669 - val_loss: 0.4976 - val_accuracy: 0.8761\n",
            "Epoch 151/200\n",
            "7/7 [==============================] - 13s 2s/step - loss: 0.0789 - accuracy: 0.9738 - val_loss: 0.6051 - val_accuracy: 0.8807\n",
            "Epoch 152/200\n",
            "7/7 [==============================] - 13s 2s/step - loss: 0.0856 - accuracy: 0.9681 - val_loss: 0.5003 - val_accuracy: 0.8578\n",
            "Epoch 153/200\n",
            "7/7 [==============================] - 14s 2s/step - loss: 0.0860 - accuracy: 0.9704 - val_loss: 0.4374 - val_accuracy: 0.8578\n",
            "Epoch 154/200\n",
            "7/7 [==============================] - 15s 2s/step - loss: 0.0765 - accuracy: 0.9681 - val_loss: 0.5392 - val_accuracy: 0.8853\n",
            "Epoch 155/200\n",
            "7/7 [==============================] - 13s 2s/step - loss: 0.0804 - accuracy: 0.9658 - val_loss: 0.5577 - val_accuracy: 0.8991\n",
            "Epoch 156/200\n",
            "7/7 [==============================] - 13s 2s/step - loss: 0.1005 - accuracy: 0.9612 - val_loss: 0.5742 - val_accuracy: 0.8807\n",
            "Epoch 157/200\n",
            "7/7 [==============================] - 13s 2s/step - loss: 0.0608 - accuracy: 0.9783 - val_loss: 0.5893 - val_accuracy: 0.8761\n",
            "Epoch 158/200\n",
            "7/7 [==============================] - 13s 2s/step - loss: 0.0602 - accuracy: 0.9818 - val_loss: 0.5601 - val_accuracy: 0.9037\n",
            "Epoch 159/200\n",
            "7/7 [==============================] - 13s 2s/step - loss: 0.0504 - accuracy: 0.9863 - val_loss: 0.5745 - val_accuracy: 0.9037\n",
            "Epoch 160/200\n",
            "7/7 [==============================] - 13s 2s/step - loss: 0.0565 - accuracy: 0.9795 - val_loss: 0.5451 - val_accuracy: 0.8991\n",
            "Epoch 161/200\n",
            "7/7 [==============================] - 13s 2s/step - loss: 0.0755 - accuracy: 0.9715 - val_loss: 0.5575 - val_accuracy: 0.8761\n",
            "Epoch 162/200\n",
            "7/7 [==============================] - 13s 2s/step - loss: 0.0530 - accuracy: 0.9829 - val_loss: 0.5414 - val_accuracy: 0.8899\n",
            "Epoch 163/200\n",
            "7/7 [==============================] - 13s 2s/step - loss: 0.0682 - accuracy: 0.9761 - val_loss: 0.5450 - val_accuracy: 0.8991\n",
            "Epoch 164/200\n",
            "7/7 [==============================] - 13s 2s/step - loss: 0.0684 - accuracy: 0.9738 - val_loss: 0.5249 - val_accuracy: 0.8991\n",
            "Epoch 165/200\n",
            "7/7 [==============================] - 14s 2s/step - loss: 0.0630 - accuracy: 0.9783 - val_loss: 0.5553 - val_accuracy: 0.9037\n",
            "Epoch 166/200\n",
            "7/7 [==============================] - 13s 2s/step - loss: 0.0645 - accuracy: 0.9761 - val_loss: 0.6000 - val_accuracy: 0.8853\n",
            "Epoch 167/200\n",
            "7/7 [==============================] - 13s 2s/step - loss: 0.0715 - accuracy: 0.9715 - val_loss: 0.5530 - val_accuracy: 0.8670\n",
            "Epoch 168/200\n",
            "7/7 [==============================] - 13s 2s/step - loss: 0.0770 - accuracy: 0.9749 - val_loss: 0.5040 - val_accuracy: 0.8899\n",
            "Epoch 169/200\n",
            "7/7 [==============================] - 13s 2s/step - loss: 0.0791 - accuracy: 0.9738 - val_loss: 0.5417 - val_accuracy: 0.8991\n",
            "Epoch 170/200\n",
            "7/7 [==============================] - 13s 2s/step - loss: 0.0729 - accuracy: 0.9738 - val_loss: 0.6260 - val_accuracy: 0.8578\n",
            "Epoch 171/200\n",
            "7/7 [==============================] - 13s 2s/step - loss: 0.0716 - accuracy: 0.9726 - val_loss: 0.5129 - val_accuracy: 0.8853\n",
            "Epoch 172/200\n",
            "7/7 [==============================] - 13s 2s/step - loss: 0.0659 - accuracy: 0.9738 - val_loss: 0.5558 - val_accuracy: 0.8991\n",
            "Epoch 173/200\n",
            "7/7 [==============================] - 13s 2s/step - loss: 0.0599 - accuracy: 0.9681 - val_loss: 0.5652 - val_accuracy: 0.8945\n",
            "Epoch 174/200\n",
            "7/7 [==============================] - 13s 2s/step - loss: 0.0604 - accuracy: 0.9772 - val_loss: 0.4872 - val_accuracy: 0.9083\n",
            "Epoch 175/200\n",
            "7/7 [==============================] - 15s 2s/step - loss: 0.0538 - accuracy: 0.9829 - val_loss: 0.5666 - val_accuracy: 0.8945\n",
            "Epoch 176/200\n",
            "7/7 [==============================] - 14s 2s/step - loss: 0.0626 - accuracy: 0.9738 - val_loss: 0.5950 - val_accuracy: 0.8899\n",
            "Epoch 177/200\n",
            "7/7 [==============================] - 14s 2s/step - loss: 0.0400 - accuracy: 0.9886 - val_loss: 0.6319 - val_accuracy: 0.8716\n",
            "Epoch 178/200\n",
            "7/7 [==============================] - 13s 2s/step - loss: 0.0465 - accuracy: 0.9840 - val_loss: 0.5398 - val_accuracy: 0.8853\n",
            "Epoch 179/200\n",
            "7/7 [==============================] - 13s 2s/step - loss: 0.0415 - accuracy: 0.9840 - val_loss: 0.5531 - val_accuracy: 0.8899\n",
            "Epoch 180/200\n",
            "7/7 [==============================] - 13s 2s/step - loss: 0.0428 - accuracy: 0.9840 - val_loss: 0.6341 - val_accuracy: 0.8716\n",
            "Epoch 181/200\n",
            "7/7 [==============================] - 13s 2s/step - loss: 0.0433 - accuracy: 0.9783 - val_loss: 0.6246 - val_accuracy: 0.8853\n",
            "Epoch 182/200\n",
            "7/7 [==============================] - 13s 2s/step - loss: 0.0422 - accuracy: 0.9863 - val_loss: 0.6802 - val_accuracy: 0.8945\n",
            "Epoch 183/200\n",
            "7/7 [==============================] - 13s 2s/step - loss: 0.0423 - accuracy: 0.9818 - val_loss: 0.5161 - val_accuracy: 0.8945\n",
            "Epoch 184/200\n",
            "7/7 [==============================] - 13s 2s/step - loss: 0.0504 - accuracy: 0.9840 - val_loss: 0.6703 - val_accuracy: 0.8853\n",
            "Epoch 185/200\n",
            "7/7 [==============================] - 14s 2s/step - loss: 0.0423 - accuracy: 0.9840 - val_loss: 0.6799 - val_accuracy: 0.8945\n",
            "Epoch 186/200\n",
            "7/7 [==============================] - 13s 2s/step - loss: 0.0335 - accuracy: 0.9886 - val_loss: 0.6463 - val_accuracy: 0.8899\n",
            "Epoch 187/200\n",
            "7/7 [==============================] - 13s 2s/step - loss: 0.0391 - accuracy: 0.9852 - val_loss: 0.5254 - val_accuracy: 0.8899\n",
            "Epoch 188/200\n",
            "7/7 [==============================] - 13s 2s/step - loss: 0.0419 - accuracy: 0.9886 - val_loss: 0.5686 - val_accuracy: 0.8991\n",
            "Epoch 189/200\n",
            "7/7 [==============================] - 13s 2s/step - loss: 0.0469 - accuracy: 0.9818 - val_loss: 0.6342 - val_accuracy: 0.8807\n",
            "Epoch 190/200\n",
            "7/7 [==============================] - 13s 2s/step - loss: 0.0364 - accuracy: 0.9886 - val_loss: 0.6668 - val_accuracy: 0.8853\n",
            "Epoch 191/200\n",
            "7/7 [==============================] - 13s 2s/step - loss: 0.0578 - accuracy: 0.9795 - val_loss: 0.6995 - val_accuracy: 0.8899\n",
            "Epoch 192/200\n",
            "7/7 [==============================] - 13s 2s/step - loss: 0.0613 - accuracy: 0.9795 - val_loss: 0.5183 - val_accuracy: 0.8853\n",
            "Epoch 193/200\n",
            "7/7 [==============================] - 13s 2s/step - loss: 0.0546 - accuracy: 0.9783 - val_loss: 0.5577 - val_accuracy: 0.8624\n",
            "Epoch 194/200\n",
            "7/7 [==============================] - 13s 2s/step - loss: 0.0416 - accuracy: 0.9783 - val_loss: 0.6072 - val_accuracy: 0.9128\n",
            "Epoch 195/200\n",
            "7/7 [==============================] - 15s 2s/step - loss: 0.0439 - accuracy: 0.9806 - val_loss: 0.6379 - val_accuracy: 0.8991\n",
            "Epoch 196/200\n",
            "7/7 [==============================] - 13s 2s/step - loss: 0.0460 - accuracy: 0.9840 - val_loss: 0.5817 - val_accuracy: 0.8991\n",
            "Epoch 197/200\n",
            "7/7 [==============================] - 13s 2s/step - loss: 0.0567 - accuracy: 0.9806 - val_loss: 0.4603 - val_accuracy: 0.9174\n",
            "Epoch 198/200\n",
            "7/7 [==============================] - 14s 2s/step - loss: 0.0507 - accuracy: 0.9818 - val_loss: 0.6659 - val_accuracy: 0.8899\n",
            "Epoch 199/200\n",
            "7/7 [==============================] - 14s 2s/step - loss: 0.0486 - accuracy: 0.9852 - val_loss: 0.5204 - val_accuracy: 0.8761\n",
            "Epoch 200/200\n",
            "7/7 [==============================] - 13s 2s/step - loss: 0.0345 - accuracy: 0.9897 - val_loss: 0.6170 - val_accuracy: 0.8853\n"
          ]
        }
      ],
      "source": [
        "re = model.fit_generator(train_generator, epochs = 200, verbose =1, validation_data= validation_generator )"
      ]
    },
    {
      "cell_type": "code",
      "execution_count": 18,
      "metadata": {
        "id": "BS7jAWsRqgcG",
        "colab": {
          "base_uri": "https://localhost:8080/",
          "height": 612
        },
        "outputId": "921f0711-616e-4b39-829f-2164d68b9178"
      },
      "outputs": [
        {
          "output_type": "display_data",
          "data": {
            "text/plain": [
              "<Figure size 432x288 with 1 Axes>"
            ],
            "image/png": "[encoded data removed]"
          },
          "metadata": {}
        },
        {
          "output_type": "display_data",
          "data": {
            "text/plain": [
              "<Figure size 432x288 with 1 Axes>"
            ],
            "image/png": "[encoded data removed]"
          },
          "metadata": {}
        },
        {
          "output_type": "execute_result",
          "data": {
            "text/plain": [
              "<Figure size 432x288 with 0 Axes>"
            ]
          },
          "metadata": {},
          "execution_count": 18
        },
        {
          "output_type": "display_data",
          "data": {
            "text/plain": [
              "<Figure size 432x288 with 0 Axes>"
            ]
          },
          "metadata": {}
        }
      ],
      "source": [
        "import matplotlib.pyplot as plt\n",
        "\n",
        "plt.style.use(\"seaborn-ticks\")\n",
        "plt.plot(re.history['accuracy'])\n",
        "plt.plot(re.history['val_accuracy'])\n",
        "plt.title('model accuracy ')\n",
        "plt.ylabel('accuracy')\n",
        "plt.xlabel('epoch')\n",
        "plt.legend(['Training acc', 'test acc'], loc='upper left')\n",
        "plt.show()\n",
        "\n",
        "\n",
        "#summmerize history for loss\n",
        "plt.plot(re.history['loss'])\n",
        "plt.plot(re.history['val_loss'])\n",
        "plt.title('model loss')\n",
        "plt.ylabel('loss')\n",
        "plt.xlabel('epochs')\n",
        "plt.show()\n",
        "\n",
        "\n",
        "plt.figure()"
      ]
    },
    {
      "cell_type": "code",
      "execution_count": 19,
      "metadata": {
        "id": "8gOP6CA2hemj",
        "colab": {
          "base_uri": "https://localhost:8080/"
        },
        "outputId": "aae39a82-19cf-485e-c9a1-76ce9b0f36ae"
      },
      "outputs": [
        {
          "output_type": "stream",
          "name": "stdout",
          "text": [
            "Training results\n",
            "3/3 [==============================] - 91s 45s/step - loss: 0.5551 - accuracy: 0.8759\n"
          ]
        },
        {
          "output_type": "execute_result",
          "data": {
            "text/plain": [
              "[0.5551464557647705, 0.8759124279022217]"
            ]
          },
          "metadata": {},
          "execution_count": 19
        }
      ],
      "source": [
        "print('Training results')\n",
        "model.evaluate(test_generator)"
      ]
    },
    {
      "cell_type": "code",
      "execution_count": 20,
      "metadata": {
        "id": "UAWnHyY-qie3",
        "colab": {
          "base_uri": "https://localhost:8080/"
        },
        "outputId": "6646ab1b-34b0-4120-ef39-8b17730bfc50"
      },
      "outputs": [
        {
          "output_type": "stream",
          "name": "stdout",
          "text": [
            "==============TEST RESULTS============\n",
            "Found 274 images belonging to 3 classes.\n",
            "3/3 [==============================] - 1s 211ms/step\n",
            "              precision    recall  f1-score   support\n",
            "\n",
            "      normal       0.96      0.93      0.94       156\n",
            " pappiledema       0.82      0.78      0.80        59\n",
            "       psudo       0.78      0.88      0.83        59\n",
            "\n",
            "    accuracy                           0.89       274\n",
            "   macro avg       0.85      0.86      0.86       274\n",
            "weighted avg       0.89      0.89      0.89       274\n",
            "\n"
          ]
        }
      ],
      "source": [
        "from sklearn.metrics import confusion_matrix, classification_report\n",
        "from sklearn.metrics import roc_auc_score\n",
        "\n",
        "print(\"==============TEST RESULTS============\")\n",
        "test_generator = test_datagen.flow_from_directory(\n",
        "        test_dir,\n",
        "        target_size=(224, 224),\n",
        "        batch_size=batch_size,\n",
        "        class_mode=None,\n",
        "        shuffle=False) \n",
        "test_labels = test_generator.classes\n",
        "test_labels = to_categorical(test_labels, num_classes=num_classes)\n",
        "y_true = [i.argmax() for i in test_labels]\n",
        "\n",
        "predictions = model.predict(test_generator, verbose=1)\n",
        "yPredictions = np.argmax(predictions, axis=1)\n",
        "true_classes = test_generator.classes\n",
        "confusion_mtx = confusion_matrix(true_classes, yPredictions) \n",
        "y_pred_probabilities=yPredictions\n",
        "classnames=[]\n",
        "for classname in test_generator.class_indices:\n",
        "    classnames.append(classname)\n",
        "\n",
        "target_names = classnames\n",
        "print(classification_report(true_classes, yPredictions, target_names=target_names))\n",
        "\n",
        "#print('roc_auc_score = ' + str(roc_auc_score( true_classes, yPredictions)))"
      ]
    },
    {
      "cell_type": "code",
      "execution_count": 21,
      "metadata": {
        "id": "juUFLu5jr7o7",
        "colab": {
          "base_uri": "https://localhost:8080/"
        },
        "outputId": "c65713ad-1b1f-4177-da93-0f2342183d16"
      },
      "outputs": [
        {
          "output_type": "stream",
          "name": "stdout",
          "text": [
            "[[145   7   4]\n",
            " [  2  46  11]\n",
            " [  4   3  52]]\n",
            "              precision    recall  f1-score   support\n",
            "\n",
            "      normal       0.96      0.93      0.94       156\n",
            " pappiledema       0.82      0.78      0.80        59\n",
            "       psudo       0.78      0.88      0.83        59\n",
            "\n",
            "    accuracy                           0.89       274\n",
            "   macro avg       0.85      0.86      0.86       274\n",
            "weighted avg       0.89      0.89      0.89       274\n",
            "\n"
          ]
        }
      ],
      "source": [
        "from sklearn.preprocessing import LabelEncoder\n",
        "from sklearn.metrics import confusion_matrix, classification_report\n",
        "\n",
        "test_labels = test_generator.classes\n",
        "test_labels = to_categorical(test_labels, num_classes=num_classes)\n",
        "y_true = [i.argmax() for i in test_labels]\n",
        "\n",
        "\n",
        "y_pred=yPredictions\n",
        "y_pred_probabilities=y_pred\n",
        "\n",
        "# y_pred = np.argmax(y_pred,axis = 1) \n",
        "y_actual = y_true\n",
        "\n",
        "classnames=[]\n",
        "for classname in test_generator.class_indices:\n",
        "    classnames.append(classname)\n",
        "\n",
        "confusion_mtx = confusion_matrix(y_actual, y_pred) \n",
        "print(confusion_mtx)\n",
        "target_names = classnames\n",
        "print(classification_report(y_actual, y_pred, target_names=target_names))"
      ]
    },
    {
      "cell_type": "code",
      "execution_count": 22,
      "metadata": {
        "id": "Jti-CmV0r9_m",
        "colab": {
          "base_uri": "https://localhost:8080/",
          "height": 287
        },
        "outputId": "b6da06b6-6189-42d0-f4a3-605960e45e82"
      },
      "outputs": [
        {
          "output_type": "error",
          "ename": "ValueError",
          "evalue": "ignored",
          "traceback": [
            "\u001b[0;31m---------------------------------------------------------------------------\u001b[0m",
            "\u001b[0;31mValueError\u001b[0m                                Traceback (most recent call last)",
            "\u001b[0;32m<ipython-input-22-863d8c97fd7b>\u001b[0m in \u001b[0;36m<module>\u001b[0;34m()\u001b[0m\n\u001b[0;32m----> 1\u001b[0;31m \u001b[0mprint\u001b[0m\u001b[0;34m(\u001b[0m\u001b[0;34m'roc_auc_score = '\u001b[0m \u001b[0;34m+\u001b[0m \u001b[0mstr\u001b[0m\u001b[0;34m(\u001b[0m\u001b[0mroc_auc_score\u001b[0m\u001b[0;34m(\u001b[0m\u001b[0my_pred\u001b[0m\u001b[0;34m,\u001b[0m \u001b[0my_true\u001b[0m\u001b[0;34m)\u001b[0m\u001b[0;34m)\u001b[0m\u001b[0;34m)\u001b[0m\u001b[0;34m\u001b[0m\u001b[0;34m\u001b[0m\u001b[0m\n\u001b[0m",
            "\u001b[0;32m/usr/local/lib/python3.7/dist-packages/sklearn/metrics/_ranking.py\u001b[0m in \u001b[0;36mroc_auc_score\u001b[0;34m(y_true, y_score, average, sample_weight, max_fpr, multi_class, labels)\u001b[0m\n\u001b[1;32m    558\u001b[0m             )\n\u001b[1;32m    559\u001b[0m         \u001b[0;32mif\u001b[0m \u001b[0mmulti_class\u001b[0m \u001b[0;34m==\u001b[0m \u001b[0;34m\"raise\"\u001b[0m\u001b[0;34m:\u001b[0m\u001b[0;34m\u001b[0m\u001b[0;34m\u001b[0m\u001b[0m\n\u001b[0;32m--> 560\u001b[0;31m             \u001b[0;32mraise\u001b[0m \u001b[0mValueError\u001b[0m\u001b[0;34m(\u001b[0m\u001b[0;34m\"multi_class must be in ('ovo', 'ovr')\"\u001b[0m\u001b[0;34m)\u001b[0m\u001b[0;34m\u001b[0m\u001b[0;34m\u001b[0m\u001b[0m\n\u001b[0m\u001b[1;32m    561\u001b[0m         return _multiclass_roc_auc_score(\n\u001b[1;32m    562\u001b[0m             \u001b[0my_true\u001b[0m\u001b[0;34m,\u001b[0m \u001b[0my_score\u001b[0m\u001b[0;34m,\u001b[0m \u001b[0mlabels\u001b[0m\u001b[0;34m,\u001b[0m \u001b[0mmulti_class\u001b[0m\u001b[0;34m,\u001b[0m \u001b[0maverage\u001b[0m\u001b[0;34m,\u001b[0m \u001b[0msample_weight\u001b[0m\u001b[0;34m\u001b[0m\u001b[0;34m\u001b[0m\u001b[0m\n",
            "\u001b[0;31mValueError\u001b[0m: multi_class must be in ('ovo', 'ovr')"
          ]
        }
      ],
      "source": [
        "print('roc_auc_score = ' + str(roc_auc_score(y_pred, y_true)))"
      ]
    },
    {
      "cell_type": "code",
      "execution_count": 23,
      "metadata": {
        "id": "OnM2WAMlsAiP",
        "colab": {
          "base_uri": "https://localhost:8080/",
          "height": 515
        },
        "outputId": "7f08ea59-154d-459f-bf7d-784104638114"
      },
      "outputs": [
        {
          "output_type": "stream",
          "name": "stdout",
          "text": [
            "              precision    recall  f1-score   support\n",
            "\n",
            "           0       0.96      0.93      0.94       156\n",
            "           1       0.82      0.78      0.80        59\n",
            "           2       0.78      0.88      0.83        59\n",
            "\n",
            "    accuracy                           0.89       274\n",
            "   macro avg       0.85      0.86      0.86       274\n",
            "weighted avg       0.89      0.89      0.89       274\n",
            "\n"
          ]
        },
        {
          "output_type": "execute_result",
          "data": {
            "text/plain": [
              "Text(0.5, 257.44, 'Predicted label')"
            ]
          },
          "metadata": {},
          "execution_count": 23
        },
        {
          "output_type": "display_data",
          "data": {
            "text/plain": [
              "<Figure size 432x288 with 2 Axes>"
            ],
            "image/png": "[encoded data removed]"
          },
          "metadata": {}
        }
      ],
      "source": [
        "from sklearn.metrics import classification_report\n",
        "import seaborn as sns\n",
        "import sklearn\n",
        "import pandas as pd\n",
        "print(classification_report( true_classes, yPredictions))\n",
        "cm_matrix = sklearn.metrics.confusion_matrix(true_classes, yPredictions)\n",
        "cm_matrix\n",
        "\n",
        "class_names=[0,1] # name  of classes\n",
        "fig, ax = plt.subplots()\n",
        "tick_marks = np.arange(len(class_names))\n",
        "plt.xticks(tick_marks, class_names)\n",
        "plt.yticks(tick_marks, class_names)\n",
        "# create heatmap\n",
        "sns.heatmap(pd.DataFrame(cm_matrix), annot=True,linewidths=.5, cmap=\"YlGnBu\" ,fmt='g')\n",
        "ax.xaxis.set_label_position(\"top\")\n",
        "plt.tight_layout()\n",
        "plt.title('Confusion matrix', y=1.1)\n",
        "plt.ylabel('Actual label')\n",
        "plt.xlabel('Predicted label')"
      ]
    },
    {
      "cell_type": "code",
      "execution_count": null,
      "metadata": {
        "id": "0XR8tFKHsCpf"
      },
      "outputs": [],
      "source": [
        "# y_pred_proba = clf.predict_proba(X_test)[::,1]\n",
        "fpr, tpr, _ = sklearn.metrics.roc_curve(true_classes, yPredictions)\n",
        "auc = sklearn.metrics.roc_auc_score(true_classes, yPredictions)\n",
        "plt.plot(fpr,tpr,label=\"data 1, auc=\"+str(auc))\n",
        "plt.legend(loc=4)\n",
        "plt.plot(fpr, tpr, color='orange', label='ROC curve from the proposed method')\n",
        "plt.plot([0, 1], [0, 1], color='darkblue', linestyle='--')\n",
        "#     plt.plot([0, 1], [0, 1], color='darkblue', linestyle='--')\n",
        "plt.xlabel('False Positive Rate')\n",
        "plt.ylabel('True Positive Rate')\n",
        "plt.title('Receiver Operating Characteristic (ROC) Curve')\n",
        "plt.legend()\n",
        "plt.show()\n",
        "\n",
        "\n",
        "plt.show()"
      ]
    },
    {
      "cell_type": "code",
      "execution_count": null,
      "metadata": {
        "id": "mCSeTc13sEnn"
      },
      "outputs": [],
      "source": [
        "total=sum(sum(cm))\n",
        "\n",
        "sensitivity = cm[0,0]/(cm[0,0]+cm[1,0])\n",
        "print('Sensitivity : ', sensitivity*100 )\n",
        "\n",
        "Specificity = cm[1,1]/(cm[1,1]+cm[0,1])\n",
        "print('Specificity : ', Specificity*100 )"
      ]
    }
  ],
  "metadata": {
    "accelerator": "GPU",
    "colab": {
      "collapsed_sections": [],
      "name": "seqCNN.ipynb",
      "provenance": []
    },
    "gpuClass": "standard",
    "kernelspec": {
      "display_name": "Python 3",
      "name": "python3"
    },
    "language_info": {
      "name": "python"
    }
  },
  "nbformat": 4,
  "nbformat_minor": 0
}